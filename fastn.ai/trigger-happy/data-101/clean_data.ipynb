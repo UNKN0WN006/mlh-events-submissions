{
 "cells": [
  {
   "cell_type": "code",
   "execution_count": null,
   "id": "3d434417",
   "metadata": {},
   "outputs": [],
   "source": [
    "import re"
   ]
  },
  {
   "cell_type": "code",
   "execution_count": 13,
   "id": "9c1c7281",
   "metadata": {},
   "outputs": [],
   "source": [
    "# Reading the current cleaned_data.csv as lines\n",
    "with open('messy_data.csv', 'r') as f:\n",
    "    lines = f.readlines()"
   ]
  },
  {
   "cell_type": "code",
   "execution_count": 14,
   "id": "b35ac405",
   "metadata": {},
   "outputs": [],
   "source": [
    "# Preparing lists for each column\n",
    "names, addresses, ages, genders = [], [], [], []"
   ]
  },
  {
   "cell_type": "code",
   "execution_count": 15,
   "id": "3f1dd2cd",
   "metadata": {},
   "outputs": [],
   "source": [
    "for line in lines:\n",
    "    # Using regex to extract fields\n",
    "    name_match = re.search(r'Name ([A-Za-z ]+)', line)\n",
    "    address_match = re.search(r'Address (.+?) Age', line)\n",
    "    age_match = re.search(r'Age (\\d+)', line)\n",
    "    gender_match = re.search(r'Gender (Male|Female)', line)\n",
    "    \n",
    "    names.append(name_match.group(1).strip() if name_match else '')\n",
    "    addresses.append(address_match.group(1).strip() if address_match else '')\n",
    "    ages.append(int(age_match.group(1)) if age_match else None)\n",
    "    genders.append(gender_match.group(1) if gender_match else '')"
   ]
  },
  {
   "cell_type": "code",
   "execution_count": 16,
   "id": "6a4f4f5f",
   "metadata": {},
   "outputs": [],
   "source": [
    "# Creating a new DataFrame\n",
    "clean_df = pd.DataFrame({\n",
    "    'Name': names,\n",
    "    'Address': addresses,\n",
    "    'Age': ages,\n",
    "    'Gender': genders\n",
    "})"
   ]
  },
  {
   "cell_type": "code",
   "execution_count": 17,
   "id": "abe3ee5b",
   "metadata": {},
   "outputs": [
    {
     "data": {
      "text/html": [
       "<div>\n",
       "<style scoped>\n",
       "    .dataframe tbody tr th:only-of-type {\n",
       "        vertical-align: middle;\n",
       "    }\n",
       "\n",
       "    .dataframe tbody tr th {\n",
       "        vertical-align: top;\n",
       "    }\n",
       "\n",
       "    .dataframe thead th {\n",
       "        text-align: right;\n",
       "    }\n",
       "</style>\n",
       "<table border=\"1\" class=\"dataframe\">\n",
       "  <thead>\n",
       "    <tr style=\"text-align: right;\">\n",
       "      <th></th>\n",
       "      <th>Name</th>\n",
       "      <th>Address</th>\n",
       "      <th>Age</th>\n",
       "      <th>Gender</th>\n",
       "    </tr>\n",
       "  </thead>\n",
       "  <tbody>\n",
       "    <tr>\n",
       "      <th>0</th>\n",
       "      <td>Hussein Hakeem Address Number</td>\n",
       "      <td>Number 22 Fioye Crescent Surulere Lagos</td>\n",
       "      <td>17</td>\n",
       "      <td>Male</td>\n",
       "    </tr>\n",
       "    <tr>\n",
       "      <th>1</th>\n",
       "      <td>Arojoye Samuel Address</td>\n",
       "      <td>11 Omolade Close Omole Estate Lagos</td>\n",
       "      <td>16</td>\n",
       "      <td>Male</td>\n",
       "    </tr>\n",
       "    <tr>\n",
       "      <th>2</th>\n",
       "      <td>Alex Ezurum Address</td>\n",
       "      <td>1 Adamu Lane, Abuja</td>\n",
       "      <td>14</td>\n",
       "      <td>Male</td>\n",
       "    </tr>\n",
       "    <tr>\n",
       "      <th>3</th>\n",
       "      <td>Susan Nwaimo Address Number</td>\n",
       "      <td>Number 58 Yaba Street, Kaduna State</td>\n",
       "      <td>16</td>\n",
       "      <td>Female</td>\n",
       "    </tr>\n",
       "    <tr>\n",
       "      <th>4</th>\n",
       "      <td>Ajao Opeyemi Address No</td>\n",
       "      <td>No12 Olubunmi Street, Abeokuta</td>\n",
       "      <td>18</td>\n",
       "      <td>Female</td>\n",
       "    </tr>\n",
       "  </tbody>\n",
       "</table>\n",
       "</div>"
      ],
      "text/plain": [
       "                            Name                                  Address  \\\n",
       "0  Hussein Hakeem Address Number  Number 22 Fioye Crescent Surulere Lagos   \n",
       "1         Arojoye Samuel Address      11 Omolade Close Omole Estate Lagos   \n",
       "2            Alex Ezurum Address                      1 Adamu Lane, Abuja   \n",
       "3    Susan Nwaimo Address Number      Number 58 Yaba Street, Kaduna State   \n",
       "4        Ajao Opeyemi Address No           No12 Olubunmi Street, Abeokuta   \n",
       "\n",
       "   Age  Gender  \n",
       "0   17    Male  \n",
       "1   16    Male  \n",
       "2   14    Male  \n",
       "3   16  Female  \n",
       "4   18  Female  "
      ]
     },
     "execution_count": 17,
     "metadata": {},
     "output_type": "execute_result"
    }
   ],
   "source": [
    "# Saving to a new CSV\n",
    "clean_df.to_csv('cleaned_data.csv', index=False)\n",
    "clean_df.head()"
   ]
  }
 ],
 "metadata": {
  "kernelspec": {
   "display_name": "Python 3",
   "language": "python",
   "name": "python3"
  },
  "language_info": {
   "codemirror_mode": {
    "name": "ipython",
    "version": 3
   },
   "file_extension": ".py",
   "mimetype": "text/x-python",
   "name": "python",
   "nbconvert_exporter": "python",
   "pygments_lexer": "ipython3",
   "version": "3.12.1"
  }
 },
 "nbformat": 4,
 "nbformat_minor": 5
}
